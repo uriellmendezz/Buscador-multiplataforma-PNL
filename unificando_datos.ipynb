{
 "cells": [
  {
   "cell_type": "code",
   "execution_count": 1,
   "id": "7c59cd79",
   "metadata": {},
   "outputs": [],
   "source": [
    "import json\n",
    "import pandas as pd"
   ]
  },
  {
   "cell_type": "code",
   "execution_count": 98,
   "id": "1d00810f",
   "metadata": {},
   "outputs": [],
   "source": [
    "def cargar_json(path):\n",
    "    try:\n",
    "        with open(path, 'r', encoding='UTF-8') as f:\n",
    "            return json.load(f)\n",
    "    except:\n",
    "        return None\n",
    "\n",
    "def select_products(data):\n",
    "    if data:\n",
    "        products = list(dict(p) for p in data.get('data').get('data')[0].get('products'))\n",
    "        return products\n",
    "\n",
    "\n",
    "def transform_data(p, _tienda):\n",
    "    # nombre\n",
    "    nombre = p.get(\"summary\") or p.get('productName')\n",
    "\n",
    "    # precio (priorizo finalPrice; si no, webPrice)\n",
    "    precio_raw = p.get(\"finalPrice\") or p.get(\"webPrice\")\n",
    "    try:\n",
    "        precio = float(precio_raw) if precio_raw is not None else None\n",
    "    except (TypeError, ValueError):\n",
    "        precio = None\n",
    "\n",
    "    moneda = p.get(\"currencyCode\")  # e.g., \"ARS\"\n",
    "    simbolo = p.get(\"currencySymbol\")  # e.g., \"$\"\n",
    "\n",
    "    # estrellas y cantidad de reviews\n",
    "    try:\n",
    "        estrellas = float(p.get(\"ratingStar\")) if p.get(\"ratingStar\") is not None else None\n",
    "    except (TypeError, ValueError):\n",
    "        estrellas = None\n",
    "\n",
    "    reviews = p.get(\"commentCount\")\n",
    "\n",
    "    # descripcion\n",
    "    descripcion = (\n",
    "        p.get(\"marketingLongDescription\")\n",
    "        or p.get(\"marketingShortDescription\")\n",
    "        or p.get(\"description\")\n",
    "    )\n",
    "\n",
    "    # especificaciones: de la lista \"classification\" armo dict {a: b}\n",
    "    especs = {}\n",
    "    for item in p.get(\"classification\", []) or []:\n",
    "        k = item.get(\"a\")\n",
    "        v = item.get(\"b\")\n",
    "        if k:\n",
    "            especs[k] = v\n",
    "\n",
    "    # categoría: uso un nombre legible si existe; dejo también el path crudo\n",
    "    categoria = p.get(\"flName\") or p.get(\"flCode\")  # \"Computadoras de Escritorio\"\n",
    "    categoria_path = p.get(\"categoryPath\")  # lista jerárquica si querés\n",
    "\n",
    "    # imagen producto\n",
    "    imagen = None\n",
    "    media = p.get(\"media\", {})\n",
    "    if \"thumbnail\" in media and media[\"thumbnail\"].get(\"imageAddress\"):\n",
    "        imagen = media[\"thumbnail\"][\"imageAddress\"]\n",
    "    elif \"gallery\" in media and len(media[\"gallery\"]) > 0:\n",
    "        imagen = media[\"gallery\"][0].get(\"imageAddress\")\n",
    "\n",
    "    return {\n",
    "        \"nombre\": nombre,\n",
    "        'tienda': _tienda,\n",
    "        \"precio\": precio,\n",
    "        \"moneda\": moneda,\n",
    "        \"simbolo\": simbolo,\n",
    "        \"estrellas\": estrellas,\n",
    "        \"reviews\": reviews,\n",
    "        'descripcion': descripcion,\n",
    "        \"especificaciones\": especs,\n",
    "        \"categoria\": categoria,\n",
    "        \"categoria_path\": categoria_path,\n",
    "        'sku': p.get('id'),\n",
    "        \"url\": p.get(\"url\"),\n",
    "        'imagen': imagen\n",
    "    }\n",
    "\n",
    "def generate_df(productos, tienda):\n",
    "    return pd.DataFrame(data=list(transform_data(p, tienda) for p in productos))\n",
    "\n",
    "def proceso(path, tienda):\n",
    "    # 1\n",
    "    data = cargar_json(path)\n",
    "\n",
    "    # 2\n",
    "    productos = select_products(data)\n",
    "\n",
    "    # 3\n",
    "    return generate_df(productos, tienda)\n"
   ]
  },
  {
   "cell_type": "code",
   "execution_count": 109,
   "id": "46c93cf8",
   "metadata": {},
   "outputs": [],
   "source": [
    "import os\n",
    "\n",
    "archivos = list(archivo for archivo in os.listdir('datos/lenovo') if archivo.endswith('.json'))\n",
    "dataframes = []\n",
    "tienda = 'Lenovo'\n",
    "\n",
    "for a in archivos:\n",
    "    path = os.path.join('datos\\lenovo', a)\n",
    "    dataframes.append(proceso(path, tienda))"
   ]
  },
  {
   "cell_type": "code",
   "execution_count": 110,
   "id": "7acfdf31",
   "metadata": {},
   "outputs": [
    {
     "name": "stdout",
     "output_type": "stream",
     "text": [
      "listo datos/lenovo/notebooks/notebooks-1.json\n",
      "listo datos/lenovo/notebooks/notebooks-2.json\n",
      "listo datos/lenovo/notebooks/notebooks-3.json\n",
      "listo datos/lenovo/notebooks/notebooks-4.json\n",
      "listo datos/lenovo/notebooks/notebooks-5.json\n",
      "listo datos/lenovo/notebooks/notebooks-6.json\n",
      "listo datos/lenovo/notebooks/notebooks-7.json\n",
      "listo datos/lenovo/notebooks/notebooks-8.json\n",
      "listo datos/lenovo/notebooks/notebooks-9.json\n",
      "listo datos/lenovo/notebooks/notebooks-10.json\n",
      "listo datos/lenovo/notebooks/notebooks-11.json\n",
      "listo datos/lenovo/notebooks/notebooks-12.json\n",
      "listo datos/lenovo/notebooks/notebooks-13.json\n",
      "listo datos/lenovo/notebooks/notebooks-14.json\n",
      "listo datos/lenovo/notebooks/notebooks-15.json\n",
      "listo datos/lenovo/notebooks/notebooks-16.json\n",
      "listo datos/lenovo/notebooks/notebooks-17.json\n",
      "listo datos/lenovo/notebooks/notebooks-18.json\n",
      "listo datos/lenovo/notebooks/notebooks-19.json\n",
      "listo datos/lenovo/notebooks/notebooks-20.json\n",
      "'NoneType' object is not iterable\n"
     ]
    }
   ],
   "source": [
    "for i in range(1, 30):\n",
    "    try:\n",
    "        path = 'datos/lenovo/notebooks/notebooks-{}.json'.format(i)\n",
    "        tienda = 'Lenovo'\n",
    "\n",
    "        _df = proceso(path, tienda)\n",
    "        dataframes.append(_df)\n",
    "        print('listo', path)\n",
    "\n",
    "    except Exception as e:\n",
    "        print(e)\n",
    "        break"
   ]
  },
  {
   "cell_type": "code",
   "execution_count": 113,
   "id": "c68129b2",
   "metadata": {},
   "outputs": [
    {
     "name": "stderr",
     "output_type": "stream",
     "text": [
      "C:\\Users\\uriel\\AppData\\Local\\Temp\\ipykernel_26872\\2783889678.py:1: FutureWarning: The behavior of DataFrame concatenation with empty or all-NA entries is deprecated. In a future version, this will no longer exclude empty or all-NA columns when determining the result dtypes. To retain the old behavior, exclude the relevant entries before the concat operation.\n",
      "  df = pd.concat(dataframes).reset_index(drop=True)\n"
     ]
    },
    {
     "data": {
      "text/plain": [
       "(310, 14)"
      ]
     },
     "execution_count": 113,
     "metadata": {},
     "output_type": "execute_result"
    }
   ],
   "source": [
    "df = pd.concat(dataframes).reset_index(drop=True)\n",
    "df.shape"
   ]
  },
  {
   "cell_type": "code",
   "execution_count": 121,
   "id": "07ee6121",
   "metadata": {},
   "outputs": [
    {
     "data": {
      "text/plain": [
       "sku\n",
       "21STCTO1WWAR2_f31ab1f1b6026-4f65-9ed9-0142293b720b    3\n",
       "83GS00TNAR_f31ab1f1b6026-4f65-9ed9-0142293b720b       3\n",
       "83HV003AAR_f31ab1f1b6026-4f65-9ed9-0142293b720b       3\n",
       "21T0CTO1WWAR2_f31ab1f1b6026-4f65-9ed9-0142293b720b    3\n",
       "83JXCTO1WWAR1_f31ab1f1b6026-4f65-9ed9-0142293b720b    3\n",
       "                                                     ..\n",
       "83F2CTO1WWAR1_f31ab1f1b6026-4f65-9ed9-0142293b720b    1\n",
       "83F5CTO1WWAR1_f31ab1f1b6026-4f65-9ed9-0142293b720b    1\n",
       "83EYCTO1WWAR1_f31ab1f1b6026-4f65-9ed9-0142293b720b    1\n",
       "83F5CTO1WWAR2_f31ab1f1b6026-4f65-9ed9-0142293b720b    1\n",
       "83EYCTO1WWAR2_f31ab1f1b6026-4f65-9ed9-0142293b720b    1\n",
       "Name: count, Length: 202, dtype: int64"
      ]
     },
     "execution_count": 121,
     "metadata": {},
     "output_type": "execute_result"
    }
   ],
   "source": [
    "df.sku.value_counts()"
   ]
  },
  {
   "cell_type": "code",
   "execution_count": 127,
   "id": "d2203f10",
   "metadata": {},
   "outputs": [],
   "source": [
    "df = df.drop_duplicates(subset='sku').reset_index(drop=True)"
   ]
  },
  {
   "cell_type": "code",
   "execution_count": 129,
   "id": "875b1ca6",
   "metadata": {},
   "outputs": [],
   "source": [
    "df.to_csv('datos/lenovo/productos.csv', index=False)"
   ]
  }
 ],
 "metadata": {
  "kernelspec": {
   "display_name": "env",
   "language": "python",
   "name": "python3"
  },
  "language_info": {
   "codemirror_mode": {
    "name": "ipython",
    "version": 3
   },
   "file_extension": ".py",
   "mimetype": "text/x-python",
   "name": "python",
   "nbconvert_exporter": "python",
   "pygments_lexer": "ipython3",
   "version": "3.10.11"
  }
 },
 "nbformat": 4,
 "nbformat_minor": 5
}
