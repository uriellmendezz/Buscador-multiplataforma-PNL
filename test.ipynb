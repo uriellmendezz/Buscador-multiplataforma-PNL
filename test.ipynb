{
 "cells": [
  {
   "cell_type": "code",
   "execution_count": 1,
   "id": "79cbe0b7",
   "metadata": {},
   "outputs": [],
   "source": [
    "import requests\n",
    "import json\n",
    "from lenovo import *"
   ]
  },
  {
   "cell_type": "markdown",
   "id": "8ebdf48c",
   "metadata": {},
   "source": [
    "## Notebooks."
   ]
  },
  {
   "cell_type": "markdown",
   "id": "65b547d7",
   "metadata": {},
   "source": [
    "## Compus escritorio."
   ]
  },
  {
   "cell_type": "code",
   "execution_count": 2,
   "id": "084da860",
   "metadata": {},
   "outputs": [
    {
     "name": "stdout",
     "output_type": "stream",
     "text": [
      "Guardado.\n"
     ]
    }
   ],
   "source": [
    "params = {\n",
    "    'pageFilterId': '02c23ca9-9d91-4a4d-9187-ff4f86cc6edb',\n",
    "    'subSeriesCode': '',\n",
    "    'loyalty': 'false',\n",
    "    'params': '%7B%22classificationGroupIds%22%3A%22400001%22%2C%22pageFilterId%22%3A%2202c23ca9-9d91-4a4d-9187-ff4f86cc6edb%22%2C%22facets%22%3A%5B%5D%2C%22page%22%3A%221%22%2C%22pageSize%22%3A20%2C%22groupCode%22%3A%22%22%2C%22init%22%3Atrue%2C%22sorts%22%3A%5B%22priceUp%22%5D%2C%22version%22%3A%22v2%22%2C%22enablePreselect%22%3Atrue%2C%22subseriesCode%22%3A%22%22%7D',\n",
    "}\n",
    "\n",
    "proceso('compus-escritorio', params)"
   ]
  },
  {
   "cell_type": "markdown",
   "id": "278879d0",
   "metadata": {},
   "source": [
    "## Workstations"
   ]
  },
  {
   "cell_type": "code",
   "execution_count": 3,
   "id": "c4917bc4",
   "metadata": {},
   "outputs": [
    {
     "name": "stdout",
     "output_type": "stream",
     "text": [
      "Guardado.\n"
     ]
    }
   ],
   "source": [
    "params = {\n",
    "    'pageFilterId': '6c797319-0414-40ef-9fab-bb6d3e31d7d9',\n",
    "    'subSeriesCode': '',\n",
    "    'loyalty': 'false',\n",
    "    'params': '%7B%22classificationGroupIds%22%3A%22400001%22%2C%22pageFilterId%22%3A%226c797319-0414-40ef-9fab-bb6d3e31d7d9%22%2C%22facets%22%3A%5B%5D%2C%22page%22%3A%221%22%2C%22pageSize%22%3A300%2C%22init%22%3Atrue%2C%22sorts%22%3A%5B%22priceUp%22%5D%2C%22version%22%3A%22v2%22%2C%22enablePreselect%22%3Atrue%2C%22subseriesCode%22%3A%22%22%2C%22gameName%22%3A%22Apex%20Legends%22%7D',\n",
    "}\n",
    "\n",
    "proceso('workstation', params)"
   ]
  },
  {
   "cell_type": "markdown",
   "id": "665b4350",
   "metadata": {},
   "source": [
    "## Tablets."
   ]
  },
  {
   "cell_type": "code",
   "execution_count": 4,
   "id": "18ef59a8",
   "metadata": {},
   "outputs": [
    {
     "name": "stdout",
     "output_type": "stream",
     "text": [
      "Guardado.\n"
     ]
    }
   ],
   "source": [
    "params = {\n",
    "    'pageFilterId': '0a811c79-2dfc-465b-a3f3-c2e91ac6876b',\n",
    "    'subSeriesCode': '',\n",
    "    'loyalty': 'false',\n",
    "    'params': '%7B%22classificationGroupIds%22%3A%22400001%22%2C%22pageFilterId%22%3A%220a811c79-2dfc-465b-a3f3-c2e91ac6876b%22%2C%22facets%22%3A%5B%5D%2C%22page%22%3A%221%22%2C%22pageSize%22%3A20%2C%22groupCode%22%3A%22%22%2C%22init%22%3Atrue%2C%22sorts%22%3A%5B%22priceUp%22%5D%2C%22version%22%3A%22v2%22%2C%22enablePreselect%22%3Atrue%2C%22seriesCode%22%3A%22%22%7D',\n",
    "}\n",
    "\n",
    "proceso('datos/LENOVO-tablets', params)"
   ]
  },
  {
   "cell_type": "markdown",
   "id": "cd836b45",
   "metadata": {},
   "source": [
    "## Consolas Gaming."
   ]
  },
  {
   "cell_type": "code",
   "execution_count": 5,
   "id": "df24718c",
   "metadata": {},
   "outputs": [
    {
     "name": "stdout",
     "output_type": "stream",
     "text": [
      "Guardado.\n"
     ]
    }
   ],
   "source": [
    "params = {\n",
    "    'pageFilterId': '4a69f4ee-a186-4009-8045-1d6bceaeff20',\n",
    "    'seriesCode': 'handheld',\n",
    "    'loyalty': 'false',\n",
    "    'params': '%7B%22classificationGroupIds%22%3A%22%22%2C%22pageFilterId%22%3A%224a69f4ee-a186-4009-8045-1d6bceaeff20%22%2C%22facets%22%3A%5B%5D%2C%22page%22%3A%221%22%2C%22pageSize%22%3A20%2C%22init%22%3Atrue%2C%22sorts%22%3A%5B%22priceUp%22%5D%2C%22version%22%3A%22v2%22%2C%22enablePreselect%22%3Atrue%2C%22seriesCode%22%3A%22handheld%22%2C%22gameName%22%3A%22Apex%20Legends%22%7D',\n",
    "}\n",
    "\n",
    "proceso('datos/LENOVO-gaming', params)"
   ]
  },
  {
   "cell_type": "markdown",
   "id": "c4148fab",
   "metadata": {},
   "source": [
    "## IA."
   ]
  },
  {
   "cell_type": "code",
   "execution_count": 6,
   "id": "480fac2c",
   "metadata": {},
   "outputs": [
    {
     "name": "stdout",
     "output_type": "stream",
     "text": [
      "Guardado.\n"
     ]
    }
   ],
   "source": [
    "params = {\n",
    "    'pageFilterId': '43fe05e4-7b61-431a-8b6d-6d700db91d94',\n",
    "    'subSeriesCode': '',\n",
    "    'loyalty': 'false',\n",
    "    'params': '%7B%22classificationGroupIds%22%3A%22400001%22%2C%22pageFilterId%22%3A%2243fe05e4-7b61-431a-8b6d-6d700db91d94%22%2C%22facets%22%3A%5B%7B%22facetId%22%3A%2213109%22%2C%22selectedValues%22%3A%22Workstations%20listas%20para%20IA%2CPCs%20Gaming%20potenciada%20con%20IA%2CPC%20IA%2CCopilot%2B%20PC%22%7D%5D%2C%22page%22%3A%221%22%2C%22pageSize%22%3A300%2C%22groupCode%22%3A%22%22%2C%22init%22%3Atrue%2C%22sorts%22%3A%5B%22priceUp%22%5D%2C%22version%22%3A%22v2%22%2C%22enablePreselect%22%3Atrue%2C%22subseriesCode%22%3A%22%22%7D%0A'\n",
    "    }\n",
    "\n",
    "proceso('datos/LENOVO-ia', params)"
   ]
  },
  {
   "cell_type": "markdown",
   "id": "a7061051",
   "metadata": {},
   "source": [
    "## Accesorios y Software."
   ]
  },
  {
   "cell_type": "code",
   "execution_count": null,
   "id": "fd997dd4",
   "metadata": {},
   "outputs": [],
   "source": [
    "params = {\n",
    "    'pageFilterId': 'dcbef114-cb51-4163-8e4d-db226a5c95bf',\n",
    "    'subSeriesCode': 'accessory',\n",
    "    'loyalty': 'false',\n",
    "    'params': '%7B%22classificationGroupIds%22%3A%22400001%22%2C%22pageFilterId%22%3A%22dcbef114-cb51-4163-8e4d-db226a5c95bf%22%2C%22facets%22%3A%5B%5D%2C%22page%22%3A%221%22%2C%22pageSize%22%3A20%2C%22groupCode%22%3A%22%22%2C%22init%22%3Atrue%2C%22sorts%22%3A%5B%22priceUp%22%5D%2C%22version%22%3A%22v2%22%2C%22enablePreselect%22%3Atrue%2C%22subseriesCode%22%3A%22accessory%22%2C%22categoryCode%22%3A%22accessory%22%7D',\n",
    "}"
   ]
  }
 ],
 "metadata": {
  "kernelspec": {
   "display_name": "env",
   "language": "python",
   "name": "python3"
  },
  "language_info": {
   "codemirror_mode": {
    "name": "ipython",
    "version": 3
   },
   "file_extension": ".py",
   "mimetype": "text/x-python",
   "name": "python",
   "nbconvert_exporter": "python",
   "pygments_lexer": "ipython3",
   "version": "3.10.11"
  }
 },
 "nbformat": 4,
 "nbformat_minor": 5
}
